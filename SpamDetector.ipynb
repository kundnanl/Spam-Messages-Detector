{
 "cells": [
  {
   "cell_type": "code",
   "execution_count": 1,
   "id": "96f2764c-58b1-4c14-8f44-f41324b50e0f",
   "metadata": {},
   "outputs": [
    {
     "name": "stdout",
     "output_type": "stream",
     "text": [
      "Collecting nltk\n",
      "  Using cached nltk-3.8.1-py3-none-any.whl (1.5 MB)\n",
      "Collecting click (from nltk)\n",
      "  Obtaining dependency information for click from https://files.pythonhosted.org/packages/00/2e/d53fa4befbf2cfa713304affc7ca780ce4fc1fd8710527771b58311a3229/click-8.1.7-py3-none-any.whl.metadata\n",
      "  Using cached click-8.1.7-py3-none-any.whl.metadata (3.0 kB)\n",
      "Requirement already satisfied: joblib in c:\\users\\laksh\\appdata\\local\\programs\\python\\python311\\lib\\site-packages (from nltk) (1.3.2)\n",
      "Collecting regex>=2021.8.3 (from nltk)\n",
      "  Obtaining dependency information for regex>=2021.8.3 from https://files.pythonhosted.org/packages/de/cd/d80c9e284ae6c1b2172dacf0651d25b78ee1f7efbc12d74ea7b87c766263/regex-2023.8.8-cp311-cp311-win_amd64.whl.metadata\n",
      "  Using cached regex-2023.8.8-cp311-cp311-win_amd64.whl.metadata (42 kB)\n",
      "Collecting tqdm (from nltk)\n",
      "  Obtaining dependency information for tqdm from https://files.pythonhosted.org/packages/00/e5/f12a80907d0884e6dff9c16d0c0114d81b8cd07dc3ae54c5e962cc83037e/tqdm-4.66.1-py3-none-any.whl.metadata\n",
      "  Using cached tqdm-4.66.1-py3-none-any.whl.metadata (57 kB)\n",
      "Requirement already satisfied: colorama in c:\\users\\laksh\\appdata\\local\\programs\\python\\python311\\lib\\site-packages (from click->nltk) (0.4.6)\n",
      "Using cached regex-2023.8.8-cp311-cp311-win_amd64.whl (268 kB)\n",
      "Using cached click-8.1.7-py3-none-any.whl (97 kB)\n",
      "Using cached tqdm-4.66.1-py3-none-any.whl (78 kB)\n",
      "Installing collected packages: tqdm, regex, click, nltk\n",
      "Successfully installed click-8.1.7 nltk-3.8.1 regex-2023.8.8 tqdm-4.66.1\n"
     ]
    },
    {
     "name": "stderr",
     "output_type": "stream",
     "text": [
      "[nltk_data] Downloading package stopwords to\n",
      "[nltk_data]     C:\\Users\\laksh\\AppData\\Roaming\\nltk_data...\n",
      "[nltk_data]   Package stopwords is already up-to-date!\n",
      "[nltk_data] Downloading package punkt to\n",
      "[nltk_data]     C:\\Users\\laksh\\AppData\\Roaming\\nltk_data...\n",
      "[nltk_data]   Package punkt is already up-to-date!\n",
      "[nltk_data] Downloading package wordnet to\n",
      "[nltk_data]     C:\\Users\\laksh\\AppData\\Roaming\\nltk_data...\n",
      "[nltk_data]   Package wordnet is already up-to-date!\n"
     ]
    }
   ],
   "source": [
    "!pip install nltk\n",
    "\n",
    "import nltk\n",
    "\n",
    "nltk.download('stopwords')\n",
    "nltk.download('punkt')\n",
    "\n",
    "from nltk.corpus import stopwords\n",
    "\n",
    "nltk.download('wordnet')\n",
    "from nltk.stem import WordNetLemmatizer\n",
    "lemmatizer = WordNetLemmatizer()"
   ]
  },
  {
   "cell_type": "code",
   "execution_count": 8,
   "id": "bc5cf6ea-1e59-4f5f-8892-8b3eac394f40",
   "metadata": {},
   "outputs": [
    {
     "name": "stdout",
     "output_type": "stream",
     "text": [
      "\n",
      "Loaded Data :\n",
      "------------------------------------\n",
      "     v1                                                 v2\n",
      "0   ham  Go until jurong point, crazy.. Available only ...\n",
      "1   ham                      Ok lar... Joking wif u oni...\n",
      "2  spam  Free entry in 2 a wkly comp to win FA Cup fina...\n",
      "3   ham  U dun say so early hor... U c already then say...\n",
      "4   ham  Nah I don't think he goes to usf, he lives aro...\n"
     ]
    }
   ],
   "source": [
    "import pandas as pd\n",
    "import os\n",
    "import numpy as np\n",
    "from sklearn.model_selection import train_test_split\n",
    "from sklearn.preprocessing import scale\n",
    "\n",
    "#Load Spam Data and review content\n",
    "spam_data = pd.read_csv(\"encoded-spam.csv\")\n",
    "\n",
    "print(\"\\nLoaded Data :\\n------------------------------------\")\n",
    "print(spam_data.head())\n",
    "\n",
    "#Separate feature and target data\n",
    "spam_classes_raw = spam_data[\"v1\"]\n",
    "spam_messages = spam_data[\"v2\"]\n"
   ]
  },
  {
   "cell_type": "code",
   "execution_count": 9,
   "id": "ec61a4c4-c2c2-4a34-95ae-12bf0c1085f0",
   "metadata": {},
   "outputs": [
    {
     "name": "stderr",
     "output_type": "stream",
     "text": [
      "C:\\Users\\laksh\\AppData\\Local\\Programs\\Python\\Python311\\Lib\\site-packages\\sklearn\\feature_extraction\\text.py:525: UserWarning: The parameter 'token_pattern' will not be used since 'tokenizer' is not None'\n",
      "  warnings.warn(\n"
     ]
    },
    {
     "name": "stdout",
     "output_type": "stream",
     "text": [
      "  (0, 8319)\t0.18102257719228587\n",
      "  (0, 1383)\t0.32398411680095285\n",
      "  (0, 3818)\t0.15049278609813793\n",
      "  (0, 2328)\t0.2737030910891757\n",
      "  (0, 73)\t0.2210899700139781\n",
      "  (0, 2028)\t0.3092778595313599\n",
      "  (0, 3057)\t0.19301578749020612\n",
      "  (0, 4697)\t0.2737030910891757\n",
      "  (0, 8523)\t0.2171890405383415\n",
      "  (0, 3854)\t0.17930329356861954\n",
      "  (0, 5398)\t0.17488233852105456\n",
      "  (0, 2030)\t0.2737030910891757\n",
      "  (0, 1602)\t0.24429057654998973\n",
      "  (0, 72)\t0.128771262749728\n",
      "  (0, 2584)\t0.25340577429192157\n",
      "  (0, 48)\t0.09005361394379836\n",
      "  (0, 6071)\t0.2212232046925318\n",
      "  (0, 4567)\t0.32398411680095285\n",
      "  (0, 3775)\t0.14385468209961744\n",
      "  (1, 5711)\t0.4933852045326102\n",
      "  (1, 7998)\t0.1768535132835545\n",
      "  (1, 8435)\t0.38959051227670327\n",
      "  (1, 4537)\t0.4821636547095492\n",
      "  (1, 4730)\t0.3685564842992439\n",
      "  (1, 5682)\t0.2538509654354545\n",
      "  :\t:\n",
      "  (5569, 7453)\t0.534745642874064\n",
      "  (5569, 5303)\t0.46585003314793316\n",
      "  (5569, 39)\t0.29154288162315495\n",
      "  (5569, 71)\t0.11169267830095224\n",
      "  (5569, 1057)\t0.15807830770078501\n",
      "  (5569, 73)\t0.1911337887672887\n",
      "  (5569, 48)\t0.155703928352577\n",
      "  (5570, 1835)\t0.37951681049731906\n",
      "  (5570, 1220)\t0.3622898182965319\n",
      "  (5570, 4373)\t0.32061733513078083\n",
      "  (5570, 3907)\t0.23361702872500587\n",
      "  (5570, 2062)\t0.3156130884124756\n",
      "  (5570, 3697)\t0.3070871944785127\n",
      "  (5570, 3137)\t0.27220620155289693\n",
      "  (5570, 7149)\t0.2290721052966371\n",
      "  (5570, 5498)\t0.23430788932099123\n",
      "  (5570, 4820)\t0.17773459855602547\n",
      "  (5570, 10)\t0.26739120677561906\n",
      "  (5570, 8360)\t0.20520784077643717\n",
      "  (5570, 3583)\t0.17847674826448393\n",
      "  (5570, 7998)\t0.12208290078084816\n",
      "  (5571, 6633)\t0.6849057357026747\n",
      "  (5571, 7937)\t0.5293107998727765\n",
      "  (5571, 5417)\t0.478346038589245\n",
      "  (5571, 71)\t0.14805160487342212\n",
      "TF-IDF Matrix Shape :  (5572, 8832)\n",
      "One-hot Encoding Shape :  (5572, 2)\n"
     ]
    }
   ],
   "source": [
    "\n",
    "import nltk\n",
    "import tensorflow as tf\n",
    "\n",
    "#Custom tokenizer to remove stopwords and use lemmatization\n",
    "def customtokenize(str):\n",
    "    #Split string as tokens\n",
    "    tokens=nltk.word_tokenize(str)\n",
    "    #Filter for stopwords\n",
    "    nostop = list(filter(lambda token: token not in stopwords.words('english'), tokens))\n",
    "    #Perform lemmatization\n",
    "    lemmatized=[lemmatizer.lemmatize(word) for word in nostop ]\n",
    "    return lemmatized\n",
    "\n",
    "from sklearn.feature_extraction.text import TfidfVectorizer\n",
    "\n",
    "#Build a TF-IDF Vectorizer model\n",
    "vectorizer = TfidfVectorizer(tokenizer=customtokenize)\n",
    "\n",
    "#Transform feature input to TF-IDF\n",
    "tfidf=vectorizer.fit_transform(spam_messages)\n",
    "#Convert TF-IDF to numpy array\n",
    "tfidf_array = tfidf.toarray()\n",
    "\n",
    "#Build a label encoder for target variable to convert strings to numeric values.\n",
    "from sklearn import preprocessing\n",
    "label_encoder = preprocessing.LabelEncoder()\n",
    "spam_classes = label_encoder.fit_transform(\n",
    "                                spam_classes_raw)\n",
    "\n",
    "#Convert target to one-hot encoding vector\n",
    "spam_classes = tf.keras.utils.to_categorical(spam_classes,2)\n",
    "print(tfidf)\n",
    "print(\"TF-IDF Matrix Shape : \", tfidf.shape)\n",
    "print(\"One-hot Encoding Shape : \", spam_classes.shape)\n",
    "\n",
    "X_train,X_test,Y_train,Y_test = train_test_split( tfidf_array, spam_classes, test_size=0.10)"
   ]
  },
  {
   "cell_type": "code",
   "execution_count": 10,
   "id": "77ae7527-8c79-45ab-a33e-f41c10e28723",
   "metadata": {},
   "outputs": [
    {
     "name": "stdout",
     "output_type": "stream",
     "text": [
      "Model: \"sequential\"\n",
      "_________________________________________________________________\n",
      " Layer (type)                Output Shape              Param #   \n",
      "=================================================================\n",
      " Hidden-Layer-1 (Dense)      (None, 32)                282656    \n",
      "                                                                 \n",
      " Hidden-Layer-2 (Dense)      (None, 32)                1056      \n",
      "                                                                 \n",
      " Output-Layer (Dense)        (None, 2)                 66        \n",
      "                                                                 \n",
      "=================================================================\n",
      "Total params: 283778 (1.08 MB)\n",
      "Trainable params: 283778 (1.08 MB)\n",
      "Non-trainable params: 0 (0.00 Byte)\n",
      "_________________________________________________________________\n"
     ]
    }
   ],
   "source": [
    "from tensorflow import keras\n",
    "from tensorflow.keras import optimizers\n",
    "from tensorflow.keras.regularizers import l2\n",
    "\n",
    "#Setup Hyper Parameters for building the model\n",
    "NB_CLASSES=2\n",
    "N_HIDDEN=32\n",
    "\n",
    "model = tf.keras.models.Sequential()\n",
    "\n",
    "model.add(keras.layers.Dense(N_HIDDEN,\n",
    "                             input_shape=(X_train.shape[1],),\n",
    "                              name='Hidden-Layer-1',\n",
    "                              activation='relu'))\n",
    "\n",
    "model.add(keras.layers.Dense(N_HIDDEN,\n",
    "                              name='Hidden-Layer-2',\n",
    "                              activation='relu'))\n",
    "\n",
    "model.add(keras.layers.Dense(NB_CLASSES,\n",
    "                             name='Output-Layer',\n",
    "                             activation='softmax'))\n",
    "\n",
    "model.compile(loss='categorical_crossentropy',\n",
    "              metrics=['accuracy'])\n",
    "\n",
    "model.summary()\n"
   ]
  },
  {
   "cell_type": "code",
   "execution_count": 11,
   "id": "68942dd9-d198-4562-80d1-b4efff8eef7e",
   "metadata": {},
   "outputs": [
    {
     "name": "stdout",
     "output_type": "stream",
     "text": [
      "\n",
      "Training Progress:\n",
      "------------------------------------\n",
      "Epoch 1/10\n",
      "16/16 [==============================] - 3s 85ms/step - loss: 0.6319 - accuracy: 0.8407 - val_loss: 0.5590 - val_accuracy: 0.8724\n",
      "Epoch 2/10\n",
      "16/16 [==============================] - 0s 31ms/step - loss: 0.5014 - accuracy: 0.8636 - val_loss: 0.4302 - val_accuracy: 0.8724\n",
      "Epoch 3/10\n",
      "16/16 [==============================] - 0s 22ms/step - loss: 0.3831 - accuracy: 0.8636 - val_loss: 0.3284 - val_accuracy: 0.8724\n",
      "Epoch 4/10\n",
      "16/16 [==============================] - 1s 51ms/step - loss: 0.2931 - accuracy: 0.8646 - val_loss: 0.2560 - val_accuracy: 0.8744\n",
      "Epoch 5/10\n",
      "16/16 [==============================] - 1s 55ms/step - loss: 0.2263 - accuracy: 0.8873 - val_loss: 0.2025 - val_accuracy: 0.9182\n",
      "Epoch 6/10\n",
      "16/16 [==============================] - 1s 44ms/step - loss: 0.1731 - accuracy: 0.9397 - val_loss: 0.1587 - val_accuracy: 0.9501\n",
      "Epoch 7/10\n",
      "16/16 [==============================] - 1s 50ms/step - loss: 0.1302 - accuracy: 0.9661 - val_loss: 0.1248 - val_accuracy: 0.9731\n",
      "Epoch 8/10\n",
      "16/16 [==============================] - 1s 33ms/step - loss: 0.0973 - accuracy: 0.9778 - val_loss: 0.0991 - val_accuracy: 0.9771\n",
      "Epoch 9/10\n",
      "16/16 [==============================] - 0s 26ms/step - loss: 0.0722 - accuracy: 0.9850 - val_loss: 0.0809 - val_accuracy: 0.9811\n",
      "Epoch 10/10\n",
      "16/16 [==============================] - 0s 25ms/step - loss: 0.0536 - accuracy: 0.9890 - val_loss: 0.0692 - val_accuracy: 0.9831\n",
      "\n",
      "Accuracy during Training :\n",
      "------------------------------------\n"
     ]
    },
    {
     "data": {
      "image/png": "[encoded data removed]",
      "text/plain": [
       "<Figure size 800x500 with 1 Axes>"
      ]
     },
     "metadata": {},
     "output_type": "display_data"
    },
    {
     "name": "stdout",
     "output_type": "stream",
     "text": [
      "\n",
      "Evaluation against Test Dataset :\n",
      "------------------------------------\n",
      "18/18 [==============================] - 0s 5ms/step - loss: 0.0737 - accuracy: 0.9857\n"
     ]
    },
    {
     "data": {
      "text/plain": [
       "[0.0737040638923645, 0.9856630563735962]"
      ]
     },
     "execution_count": 11,
     "metadata": {},
     "output_type": "execute_result"
    }
   ],
   "source": [
    "#Make it verbose so we can see the progress\n",
    "VERBOSE=1\n",
    "\n",
    "#Setup Hyper Parameters for training\n",
    "BATCH_SIZE=256\n",
    "EPOCHS=10\n",
    "VALIDATION_SPLIT=0.2\n",
    "\n",
    "print(\"\\nTraining Progress:\\n------------------------------------\")\n",
    "\n",
    "history=model.fit(X_train,\n",
    "          Y_train,\n",
    "          batch_size=BATCH_SIZE,\n",
    "          epochs=EPOCHS,\n",
    "          verbose=VERBOSE,\n",
    "          validation_split=VALIDATION_SPLIT)\n",
    "\n",
    "print(\"\\nAccuracy during Training :\\n------------------------------------\")\n",
    "import matplotlib.pyplot as plt\n",
    "\n",
    "pd.DataFrame(history.history)[\"accuracy\"].plot(figsize=(8, 5))\n",
    "plt.title(\"Accuracy improvements with Epoch\")\n",
    "plt.show()\n",
    "\n",
    "print(\"\\nEvaluation against Test Dataset :\\n------------------------------------\")\n",
    "model.evaluate(X_test,Y_test)"
   ]
  },
  {
   "cell_type": "code",
   "execution_count": 14,
   "id": "5e943a8f-99d8-4b33-b6fc-98fdc8b79e83",
   "metadata": {},
   "outputs": [
    {
     "name": "stdout",
     "output_type": "stream",
     "text": [
      "(1, 8832)\n",
      "1/1 [==============================] - 0s 68ms/step\n",
      "Prediction Output: [0]\n",
      "Prediction Classes are  ['ham']\n"
     ]
    }
   ],
   "source": [
    "#Predict for multiple samples using batch processing\n",
    "\n",
    "#Convert input into IF-IDF vector using the same vectorizer model\n",
    "predict_tfidf=vectorizer.transform([\"\"]).toarray()\n",
    "\n",
    "print(predict_tfidf.shape)\n",
    "\n",
    "#Predict using model\n",
    "prediction=np.argmax( model.predict(predict_tfidf), axis=1 )\n",
    "print(\"Prediction Output:\" , prediction)\n",
    "\n",
    "#Print prediction classes\n",
    "print(\"Prediction Classes are \", label_encoder.inverse_transform(prediction))"
   ]
  },
  {
   "cell_type": "code",
   "execution_count": null,
   "id": "75702f2d-fb49-4aec-8c3a-712b4b9a92e1",
   "metadata": {},
   "outputs": [],
   "source": []
  }
 ],
 "metadata": {
  "kernelspec": {
   "display_name": "Python 3 (ipykernel)",
   "language": "python",
   "name": "python3"
  },
  "language_info": {
   "codemirror_mode": {
    "name": "ipython",
    "version": 3
   },
   "file_extension": ".py",
   "mimetype": "text/x-python",
   "name": "python",
   "nbconvert_exporter": "python",
   "pygments_lexer": "ipython3",
   "version": "3.11.1"
  }
 },
 "nbformat": 4,
 "nbformat_minor": 5
}
